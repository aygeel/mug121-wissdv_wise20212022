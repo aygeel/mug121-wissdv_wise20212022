{
 "cells": [
  {
   "cell_type": "markdown",
   "metadata": {},
   "source": [
    "Wintersemester 2021/2022"
   ]
  },
  {
   "cell_type": "markdown",
   "metadata": {},
   "source": [
    "# mug121 - Wissenschaftliche Datenverarbeitung: JupyterLab-Einführung – Notebook 1"
   ]
  },
  {
   "cell_type": "markdown",
   "metadata": {},
   "source": [
    "> Niklas Heidemann (heidemann@geo.uni-bonn.de)<br>\n",
    "> Anna Zoporowski (zoporowski@geo.uni-bonn.de)"
   ]
  },
  {
   "cell_type": "markdown",
   "metadata": {},
   "source": [
    "### Was ist Jupyter?\n",
    "* interpretierte Oberfläche zum Kompilieren von Python, R, C, Octave (Matlab), etc.\n",
    "* **Notebooks** oder Scriptfiles\n",
    "* Ordnerübersicht, Terminal, etc.\n",
    "* lokal in Distributionen enthalten (jupyter lab, jupyter hub)\n",
    "oder\n",
    "* **online** ([Jupyter Hub Geophysik](https://jupyter.geo.uni-bonn.de:8088/) / [Jupyter Hub Meteorologie](https://hub.meteo.uni-bonn.de:8000/))\n",
    "* [Online-Handbuch](https://jupyter-notebook.readthedocs.io/en/stable/index.html)"
   ]
  },
  {
   "cell_type": "markdown",
   "metadata": {},
   "source": [
    "----\n",
    "**Aufgabe 1:**\n",
    "\n",
    "Erstellen Sie die folgenden Objekte in Ihrem Hauptordner des JupyterLab-Filebrowsers:<br> (**Stichwort: Launcher**)\n",
    "\n",
    "* einen Ordner\n",
    "\n",
    "Erstellen Sie in diesem Ordner wiederum die folgenden Dateien:\n",
    "\n",
    "* eine Textdatei\n",
    "* eine Markdown-Datei\n",
    "* eine .py-Datei (Python-Executable)\n",
    "* ein .ipynb-Notebook (mit beliebigem Kernel)"
   ]
  },
  {
   "cell_type": "markdown",
   "metadata": {},
   "source": [
    "----\n",
    "**Aufgabe 2:**\n",
    "\n",
    "Öffnen Sie mithilfe des Lauchers ein ***Terminal*** und eine ***ipython-Konsole***.\n",
    "\n",
    "----\n",
    "**Aufgabe 3:**\n",
    "\n",
    "Schließen Sie nun alle laufenden Terminals, Konsolen und Kernels.\n",
    "(**Stichwort: Running Terminals and Kernels**)"
   ]
  },
  {
   "cell_type": "markdown",
   "metadata": {},
   "source": [
    "----\n",
    "----\n",
    "## Exkurs: git\n",
    "\n",
    "(siehe auch cheat sheets - [Link auf eCampus](https://ecampus.uni-bonn.de/goto_ecampus_fold_2384995.html))\n",
    "\n",
    "Wir erstellen eine lokale Kopie (klonen) eines git-Repositories von der Seite GitHub.\n",
    "\n",
    "**Aufgabe:**\n",
    "\n",
    "Öffnen Sie ein Terminal und tippen/kopieren Sie die folgende Zeile:\n",
    "\n",
    "`git clone https://github.com/geophysics-ubonn/mug121-wissdv_wise20212022.git`\n",
    "\n",
    "Dies erstellt einen Ordner mit dem Namen `mug121-wissdv_wise20212022` im Hauptverzeichnis Ihres Kurs-Accounts, eine lokale Kopie des Repositories.\n",
    "\n",
    "### Weitere nützliche Befehle\n",
    "\n",
    "Um die lokale Kopie auf den neuesten Stand zu bringen, bzw. mit anderen Versionen des Repositories abzugleichen, wird der Befehl `git pull` innerhalb des Ordners (Wechsel in den Ordner via `cd ordnername`) verwendet.\n",
    "\n",
    "`git status` zeigt Informationen zum aktuellen Stand des Repositories an.\n",
    "\n",
    "Weitere Befehle sind `git add --all` zum Hinzufügen eigener, lokaler Änderungen in das lokale Repository. Mit `git commit -m\"<commit meassage>\"` (ohne die <> um die commit message herum) werden die Änderungen zur Bereitstellung an das globale Repository vorbereitet und mit `git push` an dieses versendet.\n",
    "\n",
    "Um Änderungen auf ein geschütztes Repository zu pushen, muss ein sogenannter merge-request an das Repository bzw. die Besitzer gestellt werden.\n",
    "\n",
    "* `git checkout -b neuer-branch`\n",
    "* Änderungen vornehmen\n",
    "* `git add .`; `git commit -m 'created neuer-branch mit Änderungen'`\n",
    "* `git push origin neuer-branch`\n",
    "* merge oder pull request auf dem Hub stellen (siehe Info in der Kommandozeile)\n",
    "\n",
    "Alternativ kann der neu erstellte branch auch lokal mit dem Hauptrepository zusammengeführt und anschließend gepusht werden:\n",
    "* `git checkout -b neuer-branch`\n",
    "* Änderungen vornehmen\n",
    "* `git checkout master`\n",
    "* `git merge neuer-branch`\n",
    "* `git push origin master`\n",
    "\n",
    "Die Administratoren des Repositories entscheiden dann, ob die Änderungen eingepflegt werden.\n",
    "\n",
    "---\n",
    "---"
   ]
  },
  {
   "cell_type": "markdown",
   "metadata": {},
   "source": [
    "### Nützliche Einstellungen und Keyboard-Shortcuts im Jupyter Hub/Lab\n",
    "\n",
    "`File -> Save Notebook` `Ctrl + S`\n",
    "\n",
    "`File -> Export Notebook As...`\n",
    "\n",
    "`View -> Show Line Numbers`\n",
    "\n",
    "`Run -> Restart Kernel and Run All Cells` (kann manches Problem beheben)\n",
    "\n",
    "**Kommentar (Zeilen/Blöcke):** `Ctrl + NUM/`\n",
    "\n",
    "**Auto-Vervollständigung:** `Tab`\n",
    "\n",
    "**Hilfe über Docstring-Shortcut:** `Shift + Tab`\n",
    "\n",
    "**Ausführen (Kompilieren) von Zellen:** `Shift + Enter`\n",
    "\n",
    "Trennen von Zellen am Cursor: `Ctrl + Shift + –`"
   ]
  },
  {
   "cell_type": "markdown",
   "metadata": {},
   "source": [
    "> ## FEHLER\n",
    ">\n",
    "> * werden oft zusammen mit potentiell fehlerhaften Codefragmenten ausgegeben\n",
    "> * bei unverständlichen Fehlern zuerst Syntax überprüfen\n",
    "> * **Fehlermeldungen lesen und verstehen versuchen kann eine große Hilfe sein!**"
   ]
  },
  {
   "cell_type": "markdown",
   "metadata": {},
   "source": [
    "----\n",
    "----\n",
    "## Zellen zum Testen:\n",
    "\n",
    "----"
   ]
  },
  {
   "cell_type": "markdown",
   "metadata": {},
   "source": [
    "Markdown-Zeile zum Testen\n",
    "\n",
    "# \n",
    " "
   ]
  },
  {
   "cell_type": "code",
   "execution_count": 6,
   "metadata": {},
   "outputs": [
    {
     "ename": "NameError",
     "evalue": "name 'test1234' is not defined",
     "output_type": "error",
     "traceback": [
      "\u001b[0;31m---------------------------------------------------------------------------\u001b[0m",
      "\u001b[0;31mNameError\u001b[0m                                 Traceback (most recent call last)",
      "\u001b[0;32m<ipython-input-6-e01f266c92a4>\u001b[0m in \u001b[0;36m<module>\u001b[0;34m\u001b[0m\n\u001b[1;32m      1\u001b[0m \u001b[0;31m# Code-Zelle zum Testen\u001b[0m\u001b[0;34m\u001b[0m\u001b[0;34m\u001b[0m\u001b[0;34m\u001b[0m\u001b[0m\n\u001b[1;32m      2\u001b[0m \u001b[0;34m\u001b[0m\u001b[0m\n\u001b[0;32m----> 3\u001b[0;31m \u001b[0mtest1234\u001b[0m\u001b[0;34m\u001b[0m\u001b[0;34m\u001b[0m\u001b[0m\n\u001b[0m\u001b[1;32m      4\u001b[0m \u001b[0;31m# 123\u001b[0m\u001b[0;34m\u001b[0m\u001b[0;34m\u001b[0m\u001b[0;34m\u001b[0m\u001b[0m\n",
      "\u001b[0;31mNameError\u001b[0m: name 'test1234' is not defined"
     ]
    }
   ],
   "source": [
    "# Code-Zelle zum Testen\n",
    "\n",
    "test1234\n",
    "# 123"
   ]
  },
  {
   "cell_type": "code",
   "execution_count": 5,
   "metadata": {},
   "outputs": [],
   "source": [
    "# open()"
   ]
  },
  {
   "cell_type": "raw",
   "metadata": {},
   "source": [
    "# Raw-Zelle zum Testen\n",
    "\n"
   ]
  }
 ],
 "metadata": {
  "kernelspec": {
   "display_name": "py3-general [conda env:py3-general]",
   "language": "python",
   "name": "conda-env-py3-general-py"
  },
  "language_info": {
   "codemirror_mode": {
    "name": "ipython",
    "version": 3
   },
   "file_extension": ".py",
   "mimetype": "text/x-python",
   "name": "python",
   "nbconvert_exporter": "python",
   "pygments_lexer": "ipython3",
   "version": "3.7.6"
  }
 },
 "nbformat": 4,
 "nbformat_minor": 4
}
