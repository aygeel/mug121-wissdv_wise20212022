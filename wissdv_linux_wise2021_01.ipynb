{
 "cells": [
  {
   "cell_type": "markdown",
   "metadata": {},
   "source": [
    "Wintersemester 2021/2022"
   ]
  },
  {
   "cell_type": "markdown",
   "metadata": {},
   "source": [
    "# mug121 - Wissenschaftliche Datenverarbeitung: Linux-Einführung - Notebook 1"
   ]
  },
  {
   "cell_type": "markdown",
   "metadata": {},
   "source": [
    "> Niklas Heidemann (heidemann@geo.uni-bonn.de)<br>\n",
    "> Anna Zoporowski (zoporowski@geo.uni-bonn.de)"
   ]
  },
  {
   "cell_type": "markdown",
   "metadata": {},
   "source": [
    "## Linux\n",
    "### Was ist Linux?\n",
    "\n",
    "* Sammelbezeichnung für freie, unixähnliche Mehrbenutzer-Betriebssysteme\n",
    "* basierend auf dem Linux-Kernel und auf GNU-Software (rekursives Akronym von „GNU’s Not Unix“ („GNU ist Nicht Unix“))\n",
    "* modular aufgebaut\n",
    "* Initiatoren: u.a. der finnische Programmierer Linus Torvalds\n",
    "* Weiterentwicklung durch Softwareentwickler auf der ganzen Welt\n",
    "* verschiedene Linux-Distributionen\n",
    "* vielfältiger und umfassender Einsatz, bspw. Arbeitsplatzrechner, Server, Mobiltelefone, Router, Notebooks, Embedded Systems, Microcontroller, Multimedia-Endgeräte und Supercomputer\n",
    "* Einsatz auf 2,19 % der Systeme in Deutschland ([Quelle](https://de.statista.com/statistik/daten/studie/158102/umfrage/marktanteile-von-betriebssystemen-in-deutschland-seit-2009/))\n",
    "\n",
    "\n",
    "* JupyterHub basiert auf Linux OS - Linux wird im Terminal genutzt"
   ]
  },
  {
   "cell_type": "markdown",
   "metadata": {},
   "source": [
    "## Syntax und Befehle (im Terminal)\n",
    "\n",
    "(siehe auch cheat sheets - [Link auf eCampus](https://ecampus.uni-bonn.de/goto_ecampus_fold_2384997.html))\n",
    "\n",
    "\n",
    "System-Informationen anzeigen:\n",
    "```linux\n",
    "uname -a\n",
    "```\n",
    "\n",
    "Pfad des aktuellen Verzeichnisses anzeigen:\n",
    "```linux\n",
    "pwd\n",
    "```\n",
    "Inhalt des aktuellen Verzeichnisses anzeigen:\n",
    "```linux\n",
    "ls\n",
    "```\n",
    "Verzeichnisbaum des aktuellen Verzeichnisses anzeigen (muss ggf. installiert werden):\n",
    "```linux\n",
    "tree\n",
    "```\n",
    "\n",
    "Verzeichniswechsel:\n",
    "zu einem bestimmten Pfad\n",
    "```linux\n",
    "cd <Verzeichnis/Unterverzeichnis>\n",
    "``` \n",
    "eine Ebene nach unten\n",
    "```linux\n",
    "cd ..\n",
    "```\n",
    "zwei Ebenen nach unten\n",
    "```linux\n",
    "cd ../..\n",
    "```\n",
    "eine Ebene nach oben \n",
    "```linux\n",
    "cd <Tab drücken oder nächst höheres Verzeichnis eintippen>\n",
    "```\n",
    "\n",
    "Kopieren (immer überlegt einsetzen, Gefahr etwas zu überschreiben):\n",
    "```linux\n",
    "cp <Pfad der zu kopierenden Datei/Datei> <Pfad zum Einfügen>\n",
    "```\n",
    "Ausschneiden (immer überlegt einsetzen, Gefahr etwas zu überschreiben):\n",
    "```linux\n",
    "mv <Pfad der auszuschneidenden Datei/Datei> <Pfad zum Einfügen>\n",
    "```\n",
    "\n",
    "Pfad oder Ordner erstellen:\n",
    "```linux\n",
    "mkdir <Pfad oder Ordner>\n",
    "```\n",
    "Datei erstellen:\n",
    "```linux\n",
    "touch <Dateipfad und/oder Dateiname.Endung>\n",
    "```\n",
    "Dateiinhalt anzeigen:\n",
    "```linux\n",
    "cat <Dateipfad und/oder Dateiname.Endung>\n",
    "```\n",
    "Datei erstellen und Inhalt hineinschreiben:\n",
    "```linux\n",
    "cat > <Dateipfad und/oder Dateiname.Endung>\n",
    "```"
   ]
  },
  {
   "cell_type": "markdown",
   "metadata": {},
   "source": [
    "----\n",
    "----\n",
    "\n",
    "**Aufgabe 1:**\n",
    "\n",
    "Erstellen Sie mithilfe des Terminals einen beliebigen Ordner. Navigieren Sie mithilfe des Terminals in diesen Ordner, erstellen Sie dort eine Testdatei mit beliebigem Namen und schreiben Sie einen beliebigen Text hinein.\n",
    "\n",
    "----"
   ]
  },
  {
   "cell_type": "code",
   "execution_count": null,
   "metadata": {},
   "outputs": [],
   "source": []
  }
 ],
 "metadata": {
  "kernelspec": {
   "display_name": "py3-general [conda env:py3-general]",
   "language": "python",
   "name": "conda-env-py3-general-py"
  },
  "language_info": {
   "codemirror_mode": {
    "name": "ipython",
    "version": 3
   },
   "file_extension": ".py",
   "mimetype": "text/x-python",
   "name": "python",
   "nbconvert_exporter": "python",
   "pygments_lexer": "ipython3",
   "version": "3.7.6"
  }
 },
 "nbformat": 4,
 "nbformat_minor": 4
}
